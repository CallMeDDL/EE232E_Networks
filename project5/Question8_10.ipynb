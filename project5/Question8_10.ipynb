{
 "cells": [
  {
   "cell_type": "code",
   "execution_count": 9,
   "metadata": {},
   "outputs": [],
   "source": [
    "library(igraph)\n",
    "library(rjson)\n",
    "library(data.table)"
   ]
  },
  {
   "cell_type": "code",
   "execution_count": 24,
   "metadata": {},
   "outputs": [
    {
     "name": "stdout",
     "output_type": "stream",
     "text": [
      "[1] \"Number of nodes in G: 1880\"\n",
      "[1] \"Number of edges in G: 311802\"\n",
      "[1] \"sample_pairs: \"\n"
     ]
    }
   ],
   "source": [
    "build_travel_graph <- function(csv_f_name, json_f_name) {\n",
    "    \n",
    "    edge_data <- read.csv(file=csv_f_name, header=TRUE, sep=\",\")\n",
    "    edge_data <- as.data.table(edge_data)\n",
    "\n",
    "    # clean1: only keep December\n",
    "    edge_data <- edge_data[month == 12] \n",
    "\n",
    "    # Select necessary columns\n",
    "    edge_data <- edge_data[, c(\"sourceid\", \"dstid\", \"mean_travel_time\")]\n",
    "    setnames(edge_data,\"mean_travel_time\", \"weight\")\n",
    "\n",
    "    # generate graph from edge list, with edge weight\n",
    "    g <- graph.data.frame(d = edge_data, directed = FALSE)\n",
    "\n",
    "\n",
    "    # add additional node attr\n",
    "\n",
    "    json_data <- fromJSON(file=json_f_name)\n",
    "\n",
    "    # get id_list, addr_list, loc_x_list, loc_y_list\n",
    "    id_list <- c(1:length(json_data$features))\n",
    "    id_list <- as.character(id_list)\n",
    "    addr_list <- c()\n",
    "    loc_x_list <- c()\n",
    "    loc_y_list <- c()\n",
    "    for (i in 1:length(json_data$features)){\n",
    "        token <- json_data$features[[i]]\n",
    "        addr = token$properties$DISPLAY_NAME\n",
    "        x = mean(split(unlist(token$geometry$coordinates),1:2)[[1]])\n",
    "        y = mean(split(unlist(token$geometry$coordinates),1:2)[[2]])\n",
    "        addr_list <- c(addr_list, addr)\n",
    "        loc_x_list <- c(loc_x_list, x)\n",
    "        loc_y_list <- c(loc_y_list, y)\n",
    "    }\n",
    "\n",
    "\n",
    "    # assign node attr street_addr from map: id -> street_addr\n",
    "    id_street_addr_map = as.list(setNames(addr_list, id_list))\n",
    "    V(g)$street_addr <- id_street_addr_map[V(g)$name]\n",
    "\n",
    "    # assign node attr loc_x from map: id -> loc_x\n",
    "    id_loc_x_map = as.list(setNames(loc_x_list, id_list))\n",
    "    V(g)$loc_x <- id_loc_x_map[V(g)$name]\n",
    "\n",
    "    # assign node attr loc_y from map: id -> loc_y\n",
    "    id_loc_y_map = as.list(setNames(loc_y_list, id_list))\n",
    "    V(g)$loc_y <- id_loc_y_map[V(g)$name]\n",
    "    \n",
    "    # remove duplicates\n",
    "    g <- simplify(g, remove.multiple = TRUE, edge.attr.comb=\"mean\")\n",
    "    \n",
    "    # only keep the giant connected component\n",
    "    clusters <- components(g)\n",
    "    gcc_g <- induced.subgraph(g, which(clusters$membership == which.max(clusters$csize)))\n",
    "    \n",
    "    return(gcc_g)\n",
    "}\n",
    "\n",
    "\n",
    "\n",
    "# read file\n",
    "# travel_f_name = './dataset/san_francisco-censustracts-2017-4-All-MonthlyAggregate.csv'\n",
    "csv_f_name = './dataset/san_francisco-censustracts-2017-4-All-MonthlyAggregate.csv'\n",
    "json_f_name = './dataset/san_francisco_censustracts.json'\n",
    "\n",
    "\n",
    "g = build_travel_graph(csv_f_name, json_f_name)\n",
    "# g has 4 node attributes, and 1 edge attribute\n",
    "# 4 node attributes:\n",
    "# V(g)$name: id  (str)\n",
    "# V(g)$street_addr: Street Address  (str) \n",
    "# V(g)$loc_x: x of its mean location  (float)\n",
    "# V(g)$loc_y: y of its mean location  (float)\n",
    "\n",
    "# 1 edge attribute:\n",
    "# E(g)$weight: weight of edge, \"mean traveling times\"   (float)\n",
    "\n",
    "\n",
    "# Q6\n",
    "print(sprintf(\"Number of nodes in G: %d\", vcount(g)))\n",
    "print(sprintf(\"Number of edges in G: %d\", ecount(g)))\n",
    "\n",
    "\n",
    "# Q7\n",
    "g_mst <- mst(g, weights = E(g)$weight)\n",
    "sample_num = 5\n",
    "sample_pairs <- list()\n",
    "i <- 1\n",
    "for (i in 1: sample_num){\n",
    "    edge <- E(g_mst)[i]\n",
    "    id_pair <- ends(g_mst, edge)\n",
    "    sample_pairs[[i]] <- c(V(g_mst)[id_pair[1]]$street_addr, \n",
    "                           V(g_mst)[id_pair[2]]$street_addr, edge$weight)\n",
    "}\n",
    "print('sample_pairs: ')\n",
    "# print(sample_pairs)\n",
    "# plot(g_mst,vertex.size=6)\n"
   ]
  },
  {
   "cell_type": "markdown",
   "metadata": {},
   "source": [
    "- Question 8: Determine what percentage of triangles in the graph (sets\n",
    "of 3 points on the map) satisfy the triangle inequality. You do not need\n",
    "to inspect all triangles, you can just estimate by random sampling of\n",
    "1000 triangles."
   ]
  },
  {
   "cell_type": "code",
   "execution_count": 25,
   "metadata": {},
   "outputs": [
    {
     "name": "stdout",
     "output_type": "stream",
     "text": [
      "The percentage of triangles in the graph is:  94.2 %\n"
     ]
    }
   ],
   "source": [
    "Is_triangle <- function(g,v1,v2,v3){\n",
    "    #given graph g, determine whether the triangle with vertices (v1,v2,v3) \n",
    "    #satisfies the triangle inequality. return 1 if inequality holds; 0 otherwise\n",
    "    \n",
    "    #v1, v2, v3 are the vertex ids, not names\n",
    "    \n",
    "    w1=E(g,P=c(v1,v2))$weight\n",
    "    w2=E(g,P=c(v2,v3))$weight\n",
    "    w3=E(g,P=c(v3,v1))$weight\n",
    "#     cat(w1,w2,w3,'\\n')\n",
    "    if (w1+w2>w3 && abs(w1-w2)<w3){\n",
    "        return(1)\n",
    "    }\n",
    "    else {return(0)}\n",
    "}\n",
    "Tr=vector()\n",
    "Tr=append(Tr,as.vector(triangles(g)))\n",
    "# cat(length(Tr),'\\n')\n",
    "Total_number=length(Tr)/3\n",
    "# cat(Total_number,'\\n')\n",
    "Random_starting_pos=sample(1:Total_number,1000)\n",
    "# cat(Random_starting_pos,'\\n')\n",
    "counter=0\n",
    "for (st in Random_starting_pos){\n",
    "    pos=st*3-2\n",
    "    v1=Tr[pos]\n",
    "    v2=Tr[pos+1]\n",
    "    v3=Tr[pos+2]\n",
    "#     cat(v1,v2,v3,'\\n')\n",
    "    if (Is_triangle(g,v1,v2,v3)==1){\n",
    "        counter=counter+1\n",
    "    }\n",
    "}\n",
    "cat(\"The percentage of triangles in the graph is: \", counter/10,'%\\n')"
   ]
  },
  {
   "cell_type": "code",
   "execution_count": 27,
   "metadata": {},
   "outputs": [
    {
     "name": "stdout",
     "output_type": "stream",
     "text": [
      "gg"
     ]
    }
   ],
   "source": [
    "# g1=read.graph('./dataset/sample_graph.txt',format=c(\"ncol\"),directed=FALSE)\n",
    "# # plot(g1,vertex.size=6)\n",
    "\n",
    "# # v1=which(V(g1)$name=='2')\n",
    "# # v2=which(V(g1)$name=='5')\n",
    "# # w=E(g1,P=c(v1,v2))$weight\n",
    "# # cat(v1,v2,w,'\\n')\n",
    "\n",
    "# # cat('id=',V(g1),'\\n','name=',V(g1)$name,'\\n')\n",
    "# # T1=triangles(g1)\n",
    "# # cat(T1)\n",
    "\n",
    "# # sample(1:10,11,replace=T)\n",
    "# cat(\"gg\")"
   ]
  },
  {
   "cell_type": "markdown",
   "metadata": {},
   "source": [
    "- Question 9: Find the empirical performance of the approximate algorithm:"
   ]
  },
  {
   "cell_type": "code",
   "execution_count": 67,
   "metadata": {},
   "outputs": [
    {
     "name": "stdout",
     "output_type": "stream",
     "text": [
      "The empirical performance of the approximate algorithm is:  1.569804 \n"
     ]
    }
   ],
   "source": [
    "\n",
    "\n",
    "Two_Approximation <- function(g){\n",
    "    #The algorithm takes graph g as input\n",
    "    #and outputs the approximation travel tour as a vector\n",
    "    \n",
    "    #Build the Minimum Spanning Tree\n",
    "    MST=mst(g,weights=E(g)$weight)\n",
    "#     plot(MST,vertex.size=6)\n",
    "    \n",
    "    #Creat a multigraph G by using two copies of each edge of T\n",
    "    T=as_edgelist(MST)\n",
    "    Total=length(T[,1])\n",
    "    for (i in 1:Total){\n",
    "        id1=which(V(MST)$name==T[i,1])\n",
    "        id2=which(V(MST)$name==T[i,2])\n",
    "        w=E(MST,c(T[i,1],T[i,2]))$weight\n",
    "        MST=MST+edges(c(T[i,1],T[i,2]),weight=w)\n",
    "    }\n",
    "#     plot(MST,edge.label=E(MST)$weight,vertex.size=6)\n",
    "    \n",
    "    #Find the Eulerian path on the augmented MST\n",
    "    dfs=dfs(MST,root=V(MST)[1],order=TRUE, order.out=TRUE, father=TRUE)\n",
    "    Tour=dfs$order\n",
    "    \n",
    "    \n",
    "    #Find the embedded tour\n",
    "#     Tour=unique(path)\n",
    "    return(Tour)\n",
    "    \n",
    "    \n",
    "}\n",
    "\n",
    "tour=Two_Approximation(g)\n",
    "tour=append(tour,tour[1])\n",
    "# print(V(g)$loc_x)\n",
    "# write.table(as.vector(tour), file = \"tour.txt\", sep = \"\\t\",\n",
    "#             row.names = FALSE)\n",
    "\n",
    "#Computing the upper bound of the empirical performance\n",
    "MST=mst(g,weights=E(g)$weight)\n",
    "Total_travel_time=sum(E(MST)$weight)\n",
    "\n",
    "start_node=V(g)[tour[1:1880]]\n",
    "end_node=V(g)[tour[2:1881]]\n",
    "dist=distances(g,start_node,end_node)\n",
    "\n",
    "cost=0\n",
    "for (i in 1:length(start_node)){\n",
    "    cost=cost+dist[i,i]\n",
    "}\n",
    "rho=cost/Total_travel_time\n",
    "\n",
    "\n",
    "cat(\"The empirical performance of the approximate algorithm is: \",rho,'\\n')"
   ]
  }
 ],
 "metadata": {
  "kernelspec": {
   "display_name": "R",
   "language": "R",
   "name": "ir"
  },
  "language_info": {
   "codemirror_mode": "r",
   "file_extension": ".r",
   "mimetype": "text/x-r-source",
   "name": "R",
   "pygments_lexer": "r",
   "version": "3.4.4"
  }
 },
 "nbformat": 4,
 "nbformat_minor": 2
}
