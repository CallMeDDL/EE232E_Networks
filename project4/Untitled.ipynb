{
 "cells": [
  {
   "cell_type": "code",
   "execution_count": 41,
   "metadata": {},
   "outputs": [],
   "source": [
    "library(\"igraph\")"
   ]
  },
  {
   "cell_type": "code",
   "execution_count": 42,
   "metadata": {},
   "outputs": [],
   "source": [
    "g = read.graph(\"par1_sampled_data_v1/graph_edge_list.txt\", format = \"ncol\", directed=TRUE)"
   ]
  },
  {
   "cell_type": "code",
   "execution_count": 43,
   "metadata": {},
   "outputs": [],
   "source": [
    "page_rank <- page_rank(g,damping=0.85, directed = TRUE)$vector\n",
    "top_actor <- head(sort(page_rank, decreasing=TRUE), 10)\n",
    "\n",
    "actor_idname_map = read.delim(\"par1_sampled_data_v1/actor_idname_map.txt\",header = FALSE, sep=\"\\t\")\n",
    "actorid_movieids_map = read.delim(\"par1_sampled_data_v1/actorid_movieids_map.txt\",header = FALSE, sep=\"\\t\")\n",
    "\n",
    "map_file <- file(\"par1_sampled_data_v1/actorid_movieids_map.txt\", \"r\")\n",
    "actor_map <- list()\n",
    "i <- 1\n",
    "while ( TRUE ) {\n",
    "    line = readLines(map_file, n = 1)\n",
    "    if ( length(line) == 0 ) {break}\n",
    "    vector <- c()\n",
    "    for (substr in strsplit(line, \"\\t\\t\")){\n",
    "        vector <- c(vector, as.numeric(substr))\n",
    "    }\n",
    "    actor_map[[i]] <- vector\n",
    "    i = i + 1\n",
    "}\n",
    "close(con)"
   ]
  },
  {
   "cell_type": "code",
   "execution_count": 68,
   "metadata": {},
   "outputs": [
    {
     "name": "stdout",
     "output_type": "stream",
     "text": [
      " [1] Bacon, Irving          Andrews, Stanley (I)   Asrani                \n",
      " [4] Adams, Ernie (I)       Bailey, Laura (II)     Acosta, Armando       \n",
      " [7] Bachchan, Amitabh      Alexander, Richard (I) Anand, Vikas          \n",
      "[10] Ash, Sam (I)          \n",
      "6650 Levels: $hort, Too 2 Live Crew 50 Cent A., Randy A., Sergey ... Bjarnhof, Hannah\n",
      "3249 \n",
      " 273 \n",
      "[1] 510\n",
      "1779 \n",
      " 227 \n",
      "[1] 336\n",
      "2761 \n",
      " 106 \n",
      "[1] 406\n",
      "314 \n",
      "212 \n",
      "[1] 458\n",
      "5225 \n",
      "  94 \n",
      "[1] 195\n",
      "257 \n",
      " 96 \n",
      "[1] 287\n",
      "3217 \n",
      " 112 \n",
      "[1] 245\n",
      "1012 \n",
      " 216 \n",
      "[1] 293\n",
      "1562 \n",
      "  97 \n",
      "[1] 246\n",
      "2663 \n",
      " 200 \n",
      "[1] 211\n"
     ]
    }
   ],
   "source": [
    "actor_name <- actor_idname_map$V3[as.numeric(names(top_actor))+1]\n",
    "print(actor_name)\n",
    "\n",
    "# degree and movies of those actors\n",
    "deg <- degree(g, mode=\"in\")\n",
    "for (actor_id in as.numeric(names(top_actor)))\n",
    "{\n",
    "    print(deg[toString(actor_id)])\n",
    "    print(length(actor_map[[as.numeric(actor_id) + 1]]) - 1)\n",
    "    # id to id map \n",
    "}"
   ]
  },
  {
   "cell_type": "code",
   "execution_count": 70,
   "metadata": {},
   "outputs": [],
   "source": [
    "actorid_list <- c(14503, 111298, 12812, 27258, 32389, 16878, 62774, 107832, 17285, 53248)\n",
    "names(actorid_list) <- c(\"Cruise, Tom\", \"Watson, Emma (II)\", \"Clooney, George\", \"Hanks, Tom\", \"Johnson, Dwayne (I)\", \"Depp, Johnny\", \"Smith, Will (I)\", \"Streep, Meryl\", \"DiCaprio, Leonardo\", \"Pitt, Brad\") "
   ]
  },
  {
   "cell_type": "code",
   "execution_count": 71,
   "metadata": {},
   "outputs": [
    {
     "name": "stdout",
     "output_type": "stream",
     "text": [
      "<NA> \n",
      "  NA \n"
     ]
    },
    {
     "ename": "ERROR",
     "evalue": "Error in actor_map[[as.numeric(actor_id) + 1]]: 下标出界\n",
     "output_type": "error",
     "traceback": [
      "Error in actor_map[[as.numeric(actor_id) + 1]]: 下标出界\nTraceback:\n",
      "1. print(length(actor_map[[as.numeric(actor_id) + 1]]) - 1)"
     ]
    }
   ],
   "source": [
    "for (actor_id in as.numeric(actorid_list))\n",
    "{\n",
    "    print(deg[toString(actor_id)])\n",
    "    print(length(actor_map[[as.numeric(actor_id) + 1]]) - 1)\n",
    "    # id to id map \n",
    "}"
   ]
  },
  {
   "cell_type": "code",
   "execution_count": null,
   "metadata": {},
   "outputs": [],
   "source": []
  }
 ],
 "metadata": {
  "kernelspec": {
   "display_name": "R",
   "language": "R",
   "name": "ir"
  },
  "language_info": {
   "codemirror_mode": "r",
   "file_extension": ".r",
   "mimetype": "text/x-r-source",
   "name": "R",
   "pygments_lexer": "r",
   "version": "3.4.4"
  }
 },
 "nbformat": 4,
 "nbformat_minor": 2
}
